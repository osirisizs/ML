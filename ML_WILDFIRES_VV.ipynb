{
  "nbformat": 4,
  "nbformat_minor": 0,
  "metadata": {
    "colab": {
      "provenance": [],
      "authorship_tag": "ABX9TyMpdZq37xlORz8/TcNbYvCI",
      "include_colab_link": true
    },
    "kernelspec": {
      "name": "python3",
      "display_name": "Python 3"
    },
    "language_info": {
      "name": "python"
    }
  },
  "cells": [
    {
      "cell_type": "markdown",
      "metadata": {
        "id": "view-in-github",
        "colab_type": "text"
      },
      "source": [
        "<a href=\"https://colab.research.google.com/github/osirisizs/ML/blob/main/ML_WILDFIRES_VV.ipynb\" target=\"_parent\"><img src=\"https://colab.research.google.com/assets/colab-badge.svg\" alt=\"Open In Colab\"/></a>"
      ]
    },
    {
      "cell_type": "markdown",
      "source": [
        "# Importar librerias necesarias\n",
        "---"
      ],
      "metadata": {
        "id": "Fri8uDa_vuT-"
      }
    },
    {
      "cell_type": "code",
      "execution_count": 80,
      "metadata": {
        "colab": {
          "base_uri": "https://localhost:8080/"
        },
        "id": "bzqnwewavtz2",
        "outputId": "92ec9081-e1f8-41af-826b-cc0ecf52f78e"
      },
      "outputs": [
        {
          "output_type": "stream",
          "name": "stdout",
          "text": [
            "Looking in indexes: https://pypi.org/simple, https://us-python.pkg.dev/colab-wheels/public/simple/\n",
            "Requirement already satisfied: rasterio in /usr/local/lib/python3.10/dist-packages (1.3.7)\n",
            "Requirement already satisfied: affine in /usr/local/lib/python3.10/dist-packages (from rasterio) (2.4.0)\n",
            "Requirement already satisfied: attrs in /usr/local/lib/python3.10/dist-packages (from rasterio) (23.1.0)\n",
            "Requirement already satisfied: certifi in /usr/local/lib/python3.10/dist-packages (from rasterio) (2022.12.7)\n",
            "Requirement already satisfied: click>=4.0 in /usr/local/lib/python3.10/dist-packages (from rasterio) (8.1.3)\n",
            "Requirement already satisfied: cligj>=0.5 in /usr/local/lib/python3.10/dist-packages (from rasterio) (0.7.2)\n",
            "Requirement already satisfied: numpy>=1.18 in /usr/local/lib/python3.10/dist-packages (from rasterio) (1.22.4)\n",
            "Requirement already satisfied: snuggs>=1.4.1 in /usr/local/lib/python3.10/dist-packages (from rasterio) (1.4.7)\n",
            "Requirement already satisfied: click-plugins in /usr/local/lib/python3.10/dist-packages (from rasterio) (1.1.1)\n",
            "Requirement already satisfied: setuptools in /usr/local/lib/python3.10/dist-packages (from rasterio) (67.7.2)\n",
            "Requirement already satisfied: pyparsing>=2.1.6 in /usr/local/lib/python3.10/dist-packages (from snuggs>=1.4.1->rasterio) (3.0.9)\n"
          ]
        }
      ],
      "source": [
        "pip install rasterio"
      ]
    },
    {
      "cell_type": "code",
      "source": [
        "import tensorflow as tf\n",
        "from google.colab import drive\n",
        "import numpy as np\n",
        "import pandas as pd\n",
        "from rasterio.plot import show\n",
        "import matplotlib.pyplot as plt\n",
        "import rasterio\n",
        "import cv2\n",
        "import os\n",
        "from tensorflow.keras.models import Sequential\n",
        "from tensorflow.keras.layers import Conv2D, MaxPooling2D, UpSampling2D"
      ],
      "metadata": {
        "id": "rYYWxhFIv6bQ"
      },
      "execution_count": 81,
      "outputs": []
    },
    {
      "cell_type": "markdown",
      "source": [
        "# Conectamos con Drive\n",
        "---"
      ],
      "metadata": {
        "id": "dkOM1k6j0R8C"
      }
    },
    {
      "cell_type": "code",
      "source": [
        "# Montar Google Drive\n",
        "drive.mount('/content/drive')\n"
      ],
      "metadata": {
        "colab": {
          "base_uri": "https://localhost:8080/"
        },
        "id": "ktXRY_64wA0v",
        "outputId": "840f9b45-7df5-4d72-f7dd-ddc454d1253b"
      },
      "execution_count": 83,
      "outputs": [
        {
          "output_type": "stream",
          "name": "stdout",
          "text": [
            "Drive already mounted at /content/drive; to attempt to forcibly remount, call drive.mount(\"/content/drive\", force_remount=True).\n"
          ]
        }
      ]
    },
    {
      "cell_type": "code",
      "source": [
        "# Definir la carpeta con las imágenes\n",
        "folder_path_nbr_values = '/content/drive/MyDrive/FINAL'"
      ],
      "metadata": {
        "id": "gsr_eKuJwLPr"
      },
      "execution_count": 84,
      "outputs": []
    },
    {
      "cell_type": "code",
      "source": [
        "# Obtener la lista de archivos de imágenes\n",
        "file_list = os.listdir(folder_path_nbr_values)\n",
        "image_files = [file for file in file_list if file.endswith(('.tif'))] #Se crea una lista con los nombres de los archivos\n",
        "print(f\"La carpeta contiene \" + str(len(image_files)) + \" imágenes\") #Imprimir el numero de imagenes leidas"
      ],
      "metadata": {
        "colab": {
          "base_uri": "https://localhost:8080/"
        },
        "id": "9-ePS_uuwQIj",
        "outputId": "e39bd83b-ad87-451f-d756-0d58c835b27e"
      },
      "execution_count": 85,
      "outputs": [
        {
          "output_type": "stream",
          "name": "stdout",
          "text": [
            "La carpeta contiene 112 imágenes\n"
          ]
        }
      ]
    },
    {
      "cell_type": "markdown",
      "source": [
        "# Normalizacion de 0-1 los canales de las imagenes\n",
        "---"
      ],
      "metadata": {
        "id": "yZsWHHW51hDm"
      }
    },
    {
      "cell_type": "code",
      "source": [
        "imagenesNormalizadas= '/content/drive/MyDrive/FINAL/Normalized'"
      ],
      "metadata": {
        "id": "u8LfKDzK1i-X"
      },
      "execution_count": 86,
      "outputs": []
    },
    {
      "cell_type": "code",
      "source": [
        "# Normalizar cada imagen por separado\n",
        "for image_file in image_files:\n",
        "    # Ruta completa de la imagen\n",
        "    image_path = os.path.join(folder_path_nbr_values, image_file)\n",
        "    \n",
        "    # Leer la imagen TIFF\n",
        "    with rasterio.open(image_path) as src:\n",
        "        image = src.read()  # Obtener todos los canales de la imagen\n",
        "        \n",
        "        # Normalizar los valores de los píxeles en todos los canales\n",
        "        normalized_image = (image - np.min(image)) / (np.max(image) - np.min(image))\n",
        "\n",
        "\n",
        "        # Guardar la imagen normalizada en un nuevo archivo TIF\n",
        "        output_path = os.path.join(imagenesNormalizadas, 'normalized_' + image_file)\n",
        "        with rasterio.open(output_path, 'w', **src.profile) as dst:\n",
        "            dst.write(normalized_image)  # Escribir los canales normalizados en el nuevo archivo TIF"
      ],
      "metadata": {
        "id": "9J_dq56H168p"
      },
      "execution_count": 87,
      "outputs": []
    },
    {
      "cell_type": "code",
      "source": [
        "carpeta = '/content/drive/MyDrive/FINAL/Normalized'\n",
        "\n",
        "# Obtener la lista de archivos en la carpeta\n",
        "archivos = os.listdir(carpeta)\n",
        "\n",
        "for archivo in archivos:\n",
        "    # Construir la ruta completa del archivo\n",
        "    ruta_archivo = os.path.join(carpeta, archivo)\n",
        "\n",
        "    # Abrir el archivo TIFF con rasterio\n",
        "    with rasterio.open(ruta_archivo) as imagen:\n",
        "        image_array = imagen.read()\n",
        "        print(str(image_array.shape))"
      ],
      "metadata": {
        "colab": {
          "base_uri": "https://localhost:8080/"
        },
        "id": "T25JEgkY2Cje",
        "outputId": "c74b1d3d-e0ed-4e15-ca01-521678cbf303"
      },
      "execution_count": 88,
      "outputs": [
        {
          "output_type": "stream",
          "name": "stdout",
          "text": [
            "(2, 48, 39)\n",
            "(2, 48, 40)\n",
            "(2, 48, 40)\n",
            "(2, 48, 40)\n",
            "(2, 48, 39)\n",
            "(2, 48, 40)\n",
            "(2, 48, 40)\n",
            "(2, 48, 40)\n",
            "(2, 48, 40)\n",
            "(2, 48, 40)\n",
            "(2, 48, 40)\n",
            "(2, 48, 39)\n",
            "(2, 48, 40)\n",
            "(2, 48, 40)\n",
            "(2, 48, 40)\n",
            "(2, 48, 40)\n",
            "(2, 48, 39)\n",
            "(2, 48, 39)\n",
            "(2, 48, 40)\n",
            "(2, 48, 40)\n",
            "(2, 48, 40)\n",
            "(2, 48, 39)\n",
            "(2, 48, 40)\n",
            "(2, 48, 40)\n",
            "(2, 48, 40)\n",
            "(2, 48, 40)\n",
            "(2, 48, 40)\n",
            "(2, 48, 39)\n",
            "(2, 48, 40)\n",
            "(2, 48, 39)\n",
            "(2, 48, 39)\n",
            "(2, 48, 39)\n",
            "(2, 48, 39)\n",
            "(2, 48, 39)\n",
            "(2, 48, 39)\n",
            "(2, 48, 40)\n",
            "(2, 48, 39)\n",
            "(2, 48, 40)\n",
            "(2, 48, 40)\n",
            "(2, 48, 39)\n",
            "(2, 48, 40)\n",
            "(2, 48, 39)\n",
            "(2, 48, 39)\n",
            "(2, 48, 40)\n",
            "(2, 48, 39)\n",
            "(2, 48, 40)\n",
            "(2, 48, 40)\n",
            "(2, 48, 39)\n",
            "(2, 48, 39)\n",
            "(2, 48, 39)\n",
            "(2, 48, 39)\n",
            "(2, 48, 39)\n",
            "(2, 48, 40)\n",
            "(2, 48, 40)\n",
            "(2, 48, 40)\n",
            "(2, 48, 39)\n",
            "(2, 48, 39)\n",
            "(2, 48, 39)\n",
            "(2, 48, 40)\n",
            "(2, 48, 39)\n",
            "(2, 48, 40)\n",
            "(2, 48, 40)\n",
            "(2, 48, 39)\n",
            "(2, 48, 40)\n",
            "(2, 48, 40)\n",
            "(2, 48, 40)\n",
            "(2, 48, 39)\n",
            "(2, 48, 40)\n",
            "(2, 48, 40)\n",
            "(2, 48, 40)\n",
            "(2, 48, 39)\n",
            "(2, 48, 40)\n",
            "(2, 48, 39)\n",
            "(2, 48, 39)\n",
            "(2, 48, 40)\n",
            "(2, 48, 39)\n",
            "(2, 48, 39)\n",
            "(2, 48, 39)\n",
            "(2, 48, 40)\n",
            "(2, 48, 39)\n",
            "(2, 48, 39)\n",
            "(2, 48, 40)\n",
            "(2, 48, 40)\n",
            "(2, 48, 40)\n",
            "(2, 48, 40)\n",
            "(2, 48, 39)\n",
            "(2, 48, 40)\n",
            "(2, 48, 39)\n",
            "(2, 48, 40)\n",
            "(2, 48, 40)\n",
            "(2, 48, 39)\n",
            "(2, 48, 39)\n",
            "(2, 48, 39)\n",
            "(2, 48, 40)\n",
            "(2, 48, 39)\n",
            "(2, 48, 40)\n",
            "(2, 48, 40)\n",
            "(2, 48, 40)\n",
            "(2, 48, 40)\n",
            "(2, 48, 40)\n",
            "(2, 48, 40)\n",
            "(2, 48, 40)\n",
            "(2, 48, 39)\n",
            "(2, 48, 39)\n",
            "(2, 48, 40)\n",
            "(2, 48, 39)\n",
            "(2, 48, 39)\n",
            "(2, 48, 39)\n",
            "(2, 48, 39)\n",
            "(2, 48, 39)\n",
            "(2, 48, 40)\n",
            "(2, 48, 39)\n"
          ]
        }
      ]
    },
    {
      "cell_type": "markdown",
      "source": [
        "# Reshaping NBR\n",
        "---\n",
        "\n"
      ],
      "metadata": {
        "id": "PN_XOXguwpGp"
      }
    },
    {
      "cell_type": "code",
      "source": [
        "carpeta_salida = '/content/drive/MyDrive/FINAL/NBR'"
      ],
      "metadata": {
        "id": "pGhFfjUy3TsL"
      },
      "execution_count": 89,
      "outputs": []
    },
    {
      "cell_type": "code",
      "source": [
        "for image in image_files:\n",
        "  #Le damos el path completo de cada imagen\n",
        "    file_path = os.path.join(folder_path_nbr_values, image) \n",
        "    \n",
        "    with rasterio.open(file_path) as src: #Abrimos con Rasterio\n",
        "        image_array = src.read() #Leemos el array de la imagen\n",
        "        \n",
        "    resized_image = cv2.resize(image_array[0], (40, 48)) #Resize\n",
        "        \n",
        "    output_path = os.path.join(carpeta_salida, image) #guardamos\n",
        "    \n",
        "    resized_image = np.nan_to_num(resized_image)\n",
        "\n",
        "    # Save the resized image\n",
        "    cv2.imwrite(output_path, resized_image)"
      ],
      "metadata": {
        "id": "Tz9XnpkH2aLr"
      },
      "execution_count": 90,
      "outputs": []
    },
    {
      "cell_type": "code",
      "source": [
        "carpeta = carpeta_salida"
      ],
      "metadata": {
        "id": "GgRw0KVT78eS"
      },
      "execution_count": 91,
      "outputs": []
    },
    {
      "cell_type": "code",
      "source": [
        "# Obtener la lista de archivos en la carpeta\n",
        "archivos = os.listdir(carpeta)\n",
        "\n",
        "for archivo in archivos:\n",
        "    # Construir la ruta completa del archivo\n",
        "    ruta_archivo = os.path.join(carpeta, archivo)\n",
        "\n",
        "    # Abrir el archivo TIFF con rasterio\n",
        "    with rasterio.open(ruta_archivo) as imagen:\n",
        "        image_array = imagen.read()\n",
        "        print(str(image_array.shape))"
      ],
      "metadata": {
        "colab": {
          "base_uri": "https://localhost:8080/"
        },
        "id": "t0xPqzal75J0",
        "outputId": "1602b49a-7afb-44c6-9284-6f92260e7491"
      },
      "execution_count": 92,
      "outputs": [
        {
          "output_type": "stream",
          "name": "stderr",
          "text": [
            "/usr/local/lib/python3.10/dist-packages/rasterio/__init__.py:304: NotGeoreferencedWarning: Dataset has no geotransform, gcps, or rpcs. The identity matrix will be returned.\n",
            "  dataset = DatasetReader(path, driver=driver, sharing=sharing, **kwargs)\n"
          ]
        },
        {
          "output_type": "stream",
          "name": "stdout",
          "text": [
            "(1, 48, 40)\n",
            "(1, 48, 40)\n",
            "(1, 48, 40)\n",
            "(1, 48, 40)\n",
            "(1, 48, 40)\n",
            "(1, 48, 40)\n",
            "(1, 48, 40)\n",
            "(1, 48, 40)\n",
            "(1, 48, 40)\n",
            "(1, 48, 40)\n",
            "(1, 48, 40)\n",
            "(1, 48, 40)\n",
            "(1, 48, 40)\n",
            "(1, 48, 40)\n",
            "(1, 48, 40)\n",
            "(1, 48, 40)\n",
            "(1, 48, 40)\n",
            "(1, 48, 40)\n",
            "(1, 48, 40)\n",
            "(1, 48, 40)\n",
            "(1, 48, 40)\n",
            "(1, 48, 40)\n",
            "(1, 48, 40)\n",
            "(1, 48, 40)\n",
            "(1, 48, 40)\n",
            "(1, 48, 40)\n",
            "(1, 48, 40)\n",
            "(1, 48, 40)\n",
            "(1, 48, 40)\n",
            "(1, 48, 40)\n",
            "(1, 48, 40)\n",
            "(1, 48, 40)\n",
            "(1, 48, 40)\n",
            "(1, 48, 40)\n",
            "(1, 48, 40)\n",
            "(1, 48, 40)\n",
            "(1, 48, 40)\n",
            "(1, 48, 40)\n",
            "(1, 48, 40)\n",
            "(1, 48, 40)\n",
            "(1, 48, 40)\n",
            "(1, 48, 40)\n",
            "(1, 48, 40)\n",
            "(1, 48, 40)\n",
            "(1, 48, 40)\n",
            "(1, 48, 40)\n",
            "(1, 48, 40)\n",
            "(1, 48, 40)\n",
            "(1, 48, 40)\n",
            "(1, 48, 40)\n",
            "(1, 48, 40)\n",
            "(1, 48, 40)\n",
            "(1, 48, 40)\n",
            "(1, 48, 40)\n",
            "(1, 48, 40)\n",
            "(1, 48, 40)\n",
            "(1, 48, 40)\n",
            "(1, 48, 40)\n",
            "(1, 48, 40)\n",
            "(1, 48, 40)\n",
            "(1, 48, 40)\n",
            "(1, 48, 40)\n",
            "(1, 48, 40)\n",
            "(1, 48, 40)\n",
            "(1, 48, 40)\n",
            "(1, 48, 40)\n",
            "(1, 48, 40)\n",
            "(1, 48, 40)\n",
            "(1, 48, 40)\n",
            "(1, 48, 40)\n",
            "(1, 48, 40)\n",
            "(1, 48, 40)\n",
            "(1, 48, 40)\n",
            "(1, 48, 40)\n",
            "(1, 48, 40)\n",
            "(1, 48, 40)\n",
            "(1, 48, 40)\n",
            "(1, 48, 40)\n",
            "(1, 48, 40)\n",
            "(1, 48, 40)\n",
            "(1, 48, 40)\n",
            "(1, 48, 40)\n",
            "(1, 48, 40)\n",
            "(1, 48, 40)\n",
            "(1, 48, 40)\n",
            "(1, 48, 40)\n",
            "(1, 48, 40)\n",
            "(1, 48, 40)\n",
            "(1, 48, 40)\n",
            "(1, 48, 40)\n",
            "(1, 48, 40)\n",
            "(1, 48, 40)\n",
            "(1, 48, 40)\n",
            "(1, 48, 40)\n",
            "(1, 48, 40)\n",
            "(1, 48, 40)\n",
            "(1, 48, 40)\n",
            "(1, 48, 40)\n",
            "(1, 48, 40)\n",
            "(1, 48, 40)\n",
            "(1, 48, 40)\n",
            "(1, 48, 40)\n",
            "(1, 48, 40)\n",
            "(1, 48, 40)\n",
            "(1, 48, 40)\n",
            "(1, 48, 40)\n",
            "(1, 48, 40)\n",
            "(1, 48, 40)\n",
            "(1, 48, 40)\n",
            "(1, 48, 40)\n",
            "(1, 48, 40)\n",
            "(1, 48, 40)\n"
          ]
        }
      ]
    },
    {
      "cell_type": "code",
      "source": [
        "# Obtener la lista de archivos de imágenes\n",
        "file_list = os.listdir(carpeta_salida)\n",
        "image_files = [file for file in file_list if file.endswith(('.tif'))] #Se crea una lista con los nombres de los archivos\n",
        "print(f\"La carpeta contiene \" + str(len(image_files)) + \" imágenes\") #Imprimir el numero de imagenes leidas"
      ],
      "metadata": {
        "colab": {
          "base_uri": "https://localhost:8080/"
        },
        "id": "BuOiRtC08fw0",
        "outputId": "e1a67e9d-1bd1-45f6-8abf-9cd60dc8583c"
      },
      "execution_count": 93,
      "outputs": [
        {
          "output_type": "stream",
          "name": "stdout",
          "text": [
            "La carpeta contiene 112 imágenes\n"
          ]
        }
      ]
    },
    {
      "cell_type": "markdown",
      "source": [
        "#Leyendo las imagenes para ver si funciona\n",
        "---"
      ],
      "metadata": {
        "id": "ebMofTCh83ZH"
      }
    },
    {
      "cell_type": "code",
      "source": [
        "def desplegando_imagen_NBR(ruta_imagen): \n",
        "  with rasterio.open(ruta_imagen) as image:\n",
        "    image_array = image.read()\n",
        "  image_array.shape\n",
        "  a = image_array[0]\n",
        "  #print(image_array) #Para corroborar que \"normalizar\" funciono\n",
        "  plt.imshow(a)"
      ],
      "metadata": {
        "id": "bE17pV_b8sV0"
      },
      "execution_count": 94,
      "outputs": []
    },
    {
      "cell_type": "code",
      "source": [
        "def desplegando_imagen_NVDI(ruta_imagen): \n",
        "  with rasterio.open(ruta_imagen) as image:\n",
        "    image_array = image.read()\n",
        "  image_array.shape\n",
        "  a = image_array[1]\n",
        "  #print(image_array)\n",
        "  plt.imshow(a)"
      ],
      "metadata": {
        "id": "uePg9Vy285do"
      },
      "execution_count": 95,
      "outputs": []
    },
    {
      "cell_type": "markdown",
      "source": [
        "# Reshaping NDVI\n",
        "---"
      ],
      "metadata": {
        "id": "2oBzc6K_O2Tp"
      }
    },
    {
      "cell_type": "code",
      "source": [
        "carpeta_salida = '/content/drive/MyDrive/FINAL/NDVI'"
      ],
      "metadata": {
        "id": "uddJtr5MO42r"
      },
      "execution_count": 96,
      "outputs": []
    },
    {
      "cell_type": "code",
      "source": [
        "for image in image_files:\n",
        "  #Le damos el path completo de cada imagen\n",
        "    file_path = os.path.join(folder_path_nbr_values, image) \n",
        "    \n",
        "    with rasterio.open(file_path) as src: #Abrimos con Rasterio\n",
        "        image_array = src.read() #Leemos el array de la imagen\n",
        "        \n",
        "        resized_image = cv2.resize(image_array[1], (40, 48)) #Resize\n",
        "        \n",
        "        output_path = os.path.join(carpeta_salida, image) #guardamos\n",
        "\n",
        "        resized_image = np.nan_to_num(resized_image)\n",
        "        \n",
        "        # Save the resized image\n",
        "        cv2.imwrite(output_path, resized_image)"
      ],
      "metadata": {
        "id": "5v7h-ciuPKlh"
      },
      "execution_count": 97,
      "outputs": []
    },
    {
      "cell_type": "code",
      "source": [
        "carpeta = carpeta_salida"
      ],
      "metadata": {
        "id": "errxIyvgPToE"
      },
      "execution_count": 98,
      "outputs": []
    },
    {
      "cell_type": "code",
      "source": [
        "# Obtener la lista de archivos en la carpeta\n",
        "archivos = os.listdir(carpeta)\n",
        "\n",
        "for archivo in archivos:\n",
        "    # Construir la ruta completa del archivo\n",
        "    ruta_archivo = os.path.join(carpeta, archivo)\n",
        "\n",
        "    # Abrir el archivo TIFF con rasterio\n",
        "    with rasterio.open(ruta_archivo) as imagen:\n",
        "        image_array = imagen.read()\n",
        "        print(str(image_array.shape))"
      ],
      "metadata": {
        "colab": {
          "base_uri": "https://localhost:8080/"
        },
        "id": "KHbN4JDSPNHq",
        "outputId": "50b9e2aa-3fb5-4b85-883c-97cad68aa035"
      },
      "execution_count": 99,
      "outputs": [
        {
          "output_type": "stream",
          "name": "stdout",
          "text": [
            "(1, 48, 40)\n",
            "(1, 48, 40)\n",
            "(1, 48, 40)\n",
            "(1, 48, 40)\n",
            "(1, 48, 40)\n",
            "(1, 48, 40)\n",
            "(1, 48, 40)\n",
            "(1, 48, 40)\n",
            "(1, 48, 40)\n",
            "(1, 48, 40)\n",
            "(1, 48, 40)\n",
            "(1, 48, 40)\n",
            "(1, 48, 40)\n",
            "(1, 48, 40)\n",
            "(1, 48, 40)\n",
            "(1, 48, 40)\n",
            "(1, 48, 40)\n",
            "(1, 48, 40)\n",
            "(1, 48, 40)\n",
            "(1, 48, 40)\n",
            "(1, 48, 40)\n",
            "(1, 48, 40)\n",
            "(1, 48, 40)\n",
            "(1, 48, 40)\n",
            "(1, 48, 40)\n",
            "(1, 48, 40)\n",
            "(1, 48, 40)\n",
            "(1, 48, 40)\n",
            "(1, 48, 40)\n",
            "(1, 48, 40)\n",
            "(1, 48, 40)\n",
            "(1, 48, 40)\n",
            "(1, 48, 40)\n",
            "(1, 48, 40)\n",
            "(1, 48, 40)\n",
            "(1, 48, 40)\n",
            "(1, 48, 40)\n",
            "(1, 48, 40)\n",
            "(1, 48, 40)\n",
            "(1, 48, 40)\n",
            "(1, 48, 40)\n",
            "(1, 48, 40)\n",
            "(1, 48, 40)\n",
            "(1, 48, 40)\n",
            "(1, 48, 40)\n",
            "(1, 48, 40)\n",
            "(1, 48, 40)\n",
            "(1, 48, 40)\n",
            "(1, 48, 40)\n",
            "(1, 48, 40)\n",
            "(1, 48, 40)\n",
            "(1, 48, 40)\n",
            "(1, 48, 40)\n",
            "(1, 48, 40)\n",
            "(1, 48, 40)\n",
            "(1, 48, 40)\n",
            "(1, 48, 40)\n",
            "(1, 48, 40)\n",
            "(1, 48, 40)\n",
            "(1, 48, 40)\n",
            "(1, 48, 40)\n",
            "(1, 48, 40)\n",
            "(1, 48, 40)\n",
            "(1, 48, 40)\n",
            "(1, 48, 40)\n",
            "(1, 48, 40)\n",
            "(1, 48, 40)\n",
            "(1, 48, 40)\n",
            "(1, 48, 40)\n",
            "(1, 48, 40)\n",
            "(1, 48, 40)\n",
            "(1, 48, 40)\n",
            "(1, 48, 40)\n",
            "(1, 48, 40)\n",
            "(1, 48, 40)\n",
            "(1, 48, 40)\n",
            "(1, 48, 40)\n",
            "(1, 48, 40)\n",
            "(1, 48, 40)\n",
            "(1, 48, 40)\n",
            "(1, 48, 40)\n",
            "(1, 48, 40)\n",
            "(1, 48, 40)\n",
            "(1, 48, 40)\n",
            "(1, 48, 40)\n",
            "(1, 48, 40)\n",
            "(1, 48, 40)\n",
            "(1, 48, 40)\n",
            "(1, 48, 40)\n",
            "(1, 48, 40)\n",
            "(1, 48, 40)\n",
            "(1, 48, 40)\n",
            "(1, 48, 40)\n",
            "(1, 48, 40)\n",
            "(1, 48, 40)\n",
            "(1, 48, 40)\n",
            "(1, 48, 40)\n",
            "(1, 48, 40)\n",
            "(1, 48, 40)\n",
            "(1, 48, 40)\n",
            "(1, 48, 40)\n",
            "(1, 48, 40)\n",
            "(1, 48, 40)\n",
            "(1, 48, 40)\n",
            "(1, 48, 40)\n",
            "(1, 48, 40)\n",
            "(1, 48, 40)\n",
            "(1, 48, 40)\n",
            "(1, 48, 40)\n",
            "(1, 48, 40)\n",
            "(1, 48, 40)\n",
            "(1, 48, 40)\n"
          ]
        }
      ]
    },
    {
      "cell_type": "code",
      "source": [
        "# Obtener la lista de archivos de imágenes\n",
        "file_list = os.listdir(carpeta_salida)\n",
        "image_files = [file for file in file_list if file.endswith(('.tif'))] #Se crea una lista con los nombres de los archivos\n",
        "print(f\"La carpeta contiene \" + str(len(image_files)) + \" imágenes\") #Imprimir el numero de imagenes leidas"
      ],
      "metadata": {
        "colab": {
          "base_uri": "https://localhost:8080/"
        },
        "id": "UewXikLoPz5N",
        "outputId": "f623188f-c69d-48eb-a79a-e607e9272211"
      },
      "execution_count": 100,
      "outputs": [
        {
          "output_type": "stream",
          "name": "stdout",
          "text": [
            "La carpeta contiene 112 imágenes\n"
          ]
        }
      ]
    },
    {
      "cell_type": "markdown",
      "source": [
        "# Vizualizando Imagenes\n",
        "---"
      ],
      "metadata": {
        "id": "NYsOsWu5QT4C"
      }
    },
    {
      "cell_type": "code",
      "source": [
        "desplegando_imagen_NBR('/content/drive/MyDrive/FINAL/LC08_030046_20180106.tif')\n",
        "#desplegando_imagen_NVDI('/content/drive/MyDrive/FINAL/LC08_030046_20180106.tif')"
      ],
      "metadata": {
        "colab": {
          "base_uri": "https://localhost:8080/",
          "height": 431
        },
        "id": "XerjR3qtP7BB",
        "outputId": "96c30298-e64d-4459-b767-46c3019bf8aa"
      },
      "execution_count": 101,
      "outputs": [
        {
          "output_type": "display_data",
          "data": {
            "text/plain": [
              "<Figure size 640x480 with 1 Axes>"
            ],
            "image/png": "[encoded data removed]"
          },
          "metadata": {}
        }
      ]
    },
    {
      "cell_type": "code",
      "source": [
        "desplegando_imagen_NBR('/content/drive/MyDrive/FINAL/NBR/LC08_030046_20180106.tif')"
      ],
      "metadata": {
        "colab": {
          "base_uri": "https://localhost:8080/",
          "height": 431
        },
        "id": "Mj3O3InCQ1U8",
        "outputId": "ea73b62d-3c9f-4239-d6e4-7316094f33fc"
      },
      "execution_count": 102,
      "outputs": [
        {
          "output_type": "display_data",
          "data": {
            "text/plain": [
              "<Figure size 640x480 with 1 Axes>"
            ],
            "image/png": "[encoded data removed]"
          },
          "metadata": {}
        }
      ]
    },
    {
      "cell_type": "code",
      "source": [
        "desplegando_imagen_NBR('/content/drive/MyDrive/FINAL/NDVI/LC08_030046_20180106.tif')"
      ],
      "metadata": {
        "colab": {
          "base_uri": "https://localhost:8080/",
          "height": 431
        },
        "id": "hlYKt2wVQ9kx",
        "outputId": "cccb949b-8d1c-4643-96b8-621295f01dd5"
      },
      "execution_count": 103,
      "outputs": [
        {
          "output_type": "display_data",
          "data": {
            "text/plain": [
              "<Figure size 640x480 with 1 Axes>"
            ],
            "image/png": "[encoded data removed]"
          },
          "metadata": {}
        }
      ]
    },
    {
      "cell_type": "markdown",
      "source": [
        "# Importando las imagenes\n",
        "---"
      ],
      "metadata": {
        "id": "FTrf7mc2UCNK"
      }
    },
    {
      "cell_type": "code",
      "source": [
        "NBR_dic = '/content/drive/MyDrive/FINAL/NBR'\n",
        "NDVI_dic = '/content/drive/MyDrive/FINAL/NDVI'"
      ],
      "metadata": {
        "id": "yI7-LsHCUN6D"
      },
      "execution_count": 104,
      "outputs": []
    },
    {
      "cell_type": "code",
      "source": [
        "NBR_img = []\n",
        "NDVI_img = []\n",
        "\n",
        "for image in image_files:\n",
        "    file_path = os.path.join(NBR_dic, image) #Le damos el path completo de cada NBR imagen\n",
        "    \n",
        "    with rasterio.open(file_path) as src: #Abrimos con Rasterio\n",
        "        image_array = src.read() #Leemos el array de la imagen\n",
        "        \n",
        "    NBR_img.append(image_array)\n",
        "\n",
        "for image in image_files:\n",
        "    file_path = os.path.join(NDVI_dic, image) #Le damos el path completo de cada NDVI imagen\n",
        "\n",
        "    with rasterio.open(file_path) as src: #Abrimos con Rasterio\n",
        "        image_array = src.read() #Leemos el array de la imagen\n",
        "\n",
        "    NDVI_img.append(image_array)\n"
      ],
      "metadata": {
        "id": "cNBsYURzUE-C"
      },
      "execution_count": 105,
      "outputs": []
    },
    {
      "cell_type": "code",
      "source": [
        "# NBR_img[0].shape\n",
        "len(NBR_img)"
      ],
      "metadata": {
        "colab": {
          "base_uri": "https://localhost:8080/"
        },
        "id": "6qtNmQd_VvkL",
        "outputId": "4eab8230-0ef0-42fa-bee0-0a728c2a0935"
      },
      "execution_count": 106,
      "outputs": [
        {
          "output_type": "execute_result",
          "data": {
            "text/plain": [
              "112"
            ]
          },
          "metadata": {},
          "execution_count": 106
        }
      ]
    },
    {
      "cell_type": "code",
      "source": [
        "# NDVI_img[0].shape\n",
        "len(NDVI_img)"
      ],
      "metadata": {
        "colab": {
          "base_uri": "https://localhost:8080/"
        },
        "id": "KR7EOMgjWJc7",
        "outputId": "85abe18b-26ce-46cc-ae18-57872c4a182f"
      },
      "execution_count": 107,
      "outputs": [
        {
          "output_type": "execute_result",
          "data": {
            "text/plain": [
              "112"
            ]
          },
          "metadata": {},
          "execution_count": 107
        }
      ]
    },
    {
      "cell_type": "code",
      "source": [
        "# NO FUNCIONA!!!!!!!!\n",
        "# Unir ambos canales en una sola imagen\n",
        "train_img = []\n",
        "\n",
        "for i in range(112):\n",
        "    train_img.append([NBR_img[i], NDVI_img[i]])"
      ],
      "metadata": {
        "id": "UcyCOjvYWV4r"
      },
      "execution_count": 108,
      "outputs": []
    },
    {
      "cell_type": "code",
      "source": [
        "# len(train_img)\n",
        "train_img[0]"
      ],
      "metadata": {
        "colab": {
          "base_uri": "https://localhost:8080/"
        },
        "id": "PZqS11U2W0IK",
        "outputId": "5db94c60-5955-4a49-9c67-761023c667d5"
      },
      "execution_count": 109,
      "outputs": [
        {
          "output_type": "execute_result",
          "data": {
            "text/plain": [
              "[array([[[0.39408496, 0.35821307, 0.38385284, ..., 0.5129628 ,\n",
              "          0.3566786 , 0.47730437],\n",
              "         [0.33693808, 0.35167566, 0.36370203, ..., 0.43054023,\n",
              "          0.38141146, 0.44866607],\n",
              "         [0.40233648, 0.37359935, 0.44097924, ..., 0.47033966,\n",
              "          0.4398266 , 0.43348372],\n",
              "         ...,\n",
              "         [0.7095438 , 0.7251191 , 0.6781771 , ..., 0.6062865 ,\n",
              "          0.6331903 , 0.6585795 ],\n",
              "         [0.66202265, 0.6512448 , 0.64737254, ..., 0.6388479 ,\n",
              "          0.6467309 , 0.64044034],\n",
              "         [0.58324724, 0.58753127, 0.6349598 , ..., 0.59272426,\n",
              "          0.5636369 , 0.5975564 ]]], dtype=float32),\n",
              " array([[[-0.67216134, -0.6435475 , -0.6635898 , ..., -0.77372974,\n",
              "          -0.6688268 , -0.72524965],\n",
              "         [-0.63281536, -0.64792   , -0.6530793 , ..., -0.731956  ,\n",
              "          -0.67842805, -0.7148065 ],\n",
              "         [-0.6797779 , -0.6691992 , -0.7137127 , ..., -0.74834776,\n",
              "          -0.7165742 , -0.7120842 ],\n",
              "         ...,\n",
              "         [-0.8730667 , -0.8830586 , -0.8533631 , ..., -0.806201  ,\n",
              "          -0.8220324 , -0.8393043 ],\n",
              "         [-0.84200215, -0.8400269 , -0.8337918 , ..., -0.82577527,\n",
              "          -0.83014405, -0.830183  ],\n",
              "         [-0.7964496 , -0.79691136, -0.8288938 , ..., -0.79147685,\n",
              "          -0.7742661 , -0.79986006]]], dtype=float32)]"
            ]
          },
          "metadata": {},
          "execution_count": 109
        }
      ]
    },
    {
      "cell_type": "code",
      "source": [
        "input_shapes = set(np.array(image).shape for image in train_img)\n",
        "\n",
        "print(\"Formas de las imágenes NBR de entrada:\")\n",
        "print(input_shapes)"
      ],
      "metadata": {
        "colab": {
          "base_uri": "https://localhost:8080/"
        },
        "id": "zDxiqLBJYY3S",
        "outputId": "7b3527a0-f928-452e-84ae-de45d71ff802"
      },
      "execution_count": 110,
      "outputs": [
        {
          "output_type": "stream",
          "name": "stdout",
          "text": [
            "Formas de las imágenes NBR de entrada:\n",
            "{(2, 1, 48, 40)}\n"
          ]
        }
      ]
    },
    {
      "cell_type": "code",
      "source": [
        "from rasterio.enums import Resampling"
      ],
      "metadata": {
        "id": "ZrhmlhayZcXT"
      },
      "execution_count": 111,
      "outputs": []
    },
    {
      "cell_type": "code",
      "source": [
        "for image in image_files:\n",
        "    #Le damos el path completo de cada NBR imagen\n",
        "    file_path_NBR = os.path.join(NBR_dic, image) \n",
        "    #Le damos el path completo de cada NDVI imagen\n",
        "    file_path_NDVI = os.path.join(NDVI_dic, image) \n",
        "\n",
        "    NBR = rasterio.open(file_path_NBR)\n",
        "    NDVI = rasterio.open(file_path_NDVI)\n",
        "\n",
        "    profile = NBR.profile\n",
        "    profile.update(count=2)\n",
        "\n",
        "    with rasterio.open('/content/drive/MyDrive/FINAL/Multiband/' + image, \n",
        "                       'w', **profile) as dst:\n",
        "        # Write the first image to the new TIF file\n",
        "        dst.write(NBR.read(), indexes=[1])\n",
        "\n",
        "        # Write the second image to the new TIF file\n",
        "        dst.write(NDVI.read(), indexes=[2])\n"
      ],
      "metadata": {
        "colab": {
          "base_uri": "https://localhost:8080/"
        },
        "id": "g4-l21cuZecT",
        "outputId": "0dc73ada-c2f0-43b9-e4ef-bd3f2796283c"
      },
      "execution_count": 112,
      "outputs": [
        {
          "output_type": "stream",
          "name": "stderr",
          "text": [
            "/usr/local/lib/python3.10/dist-packages/rasterio/__init__.py:314: NotGeoreferencedWarning: The given matrix is equal to Affine.identity or its flipped counterpart. GDAL may ignore this matrix and save no geotransform without raising an error. This behavior is somewhat driver-specific.\n",
            "  dataset = writer(\n"
          ]
        }
      ]
    },
    {
      "cell_type": "code",
      "source": [
        "with rasterio.open('/content/drive/MyDrive/FINAL/Multiband/LC08_030046_20180311.tif') as src: #Abrimos con Rasterio\n",
        "        image_array = src.read() #Leemos el array de la imagen\n",
        "\n",
        "image_array.shape"
      ],
      "metadata": {
        "colab": {
          "base_uri": "https://localhost:8080/"
        },
        "id": "iruSZQmhanBr",
        "outputId": "1665827f-ffc7-43b6-86d7-142851838a8f"
      },
      "execution_count": 113,
      "outputs": [
        {
          "output_type": "execute_result",
          "data": {
            "text/plain": [
              "(2, 48, 40)"
            ]
          },
          "metadata": {},
          "execution_count": 113
        }
      ]
    },
    {
      "cell_type": "code",
      "source": [
        "multiband_dic = '/content/drive/MyDrive/FINAL/Multiband'"
      ],
      "metadata": {
        "id": "TEFA7MBpjMO0"
      },
      "execution_count": 114,
      "outputs": []
    },
    {
      "cell_type": "code",
      "source": [
        "pip install pillow"
      ],
      "metadata": {
        "colab": {
          "base_uri": "https://localhost:8080/"
        },
        "id": "0jPsFWU6D4ZE",
        "outputId": "da2f9049-969d-4f15-ad6d-8694564477bf"
      },
      "execution_count": 115,
      "outputs": [
        {
          "output_type": "stream",
          "name": "stdout",
          "text": [
            "Looking in indexes: https://pypi.org/simple, https://us-python.pkg.dev/colab-wheels/public/simple/\n",
            "Requirement already satisfied: pillow in /usr/local/lib/python3.10/dist-packages (8.4.0)\n"
          ]
        }
      ]
    },
    {
      "cell_type": "code",
      "source": [
        "train_img = []\n",
        "\n",
        "for image in image_files:\n",
        "    #Le damos el path completo de cada TIF imagen\n",
        "    file_path = os.path.join(multiband_dic, image) \n",
        "    \n",
        "    with rasterio.open(file_path) as src: #Abrimos con Rasterio\n",
        "        image_array = src.read() #Leemos el array de la imagen\n",
        "        \n",
        "    train_img.append(image_array)\n",
        "\n",
        "train_img_2 = np.stack([img for img in train_img], axis=0)\n",
        "print(train_img_2.shape)"
      ],
      "metadata": {
        "colab": {
          "base_uri": "https://localhost:8080/"
        },
        "id": "-_yGaWgoi_2L",
        "outputId": "3c685379-cc3d-49fd-f253-d70885cf4be9"
      },
      "execution_count": 116,
      "outputs": [
        {
          "output_type": "stream",
          "name": "stdout",
          "text": [
            "(112, 2, 48, 40)\n"
          ]
        }
      ]
    },
    {
      "cell_type": "code",
      "source": [
        "# Assuming you have a 2-channel TIF image with shape (2, 48, 40)\n",
        "image = train_img_2\n",
        "\n",
        "# Reshape the image to (48, 40, 2)\n",
        "reshaped_image = np.transpose(image, (0, 2, 3, 1))\n",
        "\n",
        "print(reshaped_image.shape)"
      ],
      "metadata": {
        "colab": {
          "base_uri": "https://localhost:8080/"
        },
        "id": "fMW28NO4Qzqg",
        "outputId": "c5fdd133-5ce8-43aa-bc30-aecee224e00b"
      },
      "execution_count": 117,
      "outputs": [
        {
          "output_type": "stream",
          "name": "stdout",
          "text": [
            "(112, 48, 40, 2)\n"
          ]
        }
      ]
    },
    {
      "cell_type": "code",
      "source": [
        "from sklearn.model_selection import train_test_split\n",
        "X_train, X_test = train_test_split(reshaped_image, test_size=0.2, random_state=42)"
      ],
      "metadata": {
        "id": "U49prfTS2m6Y"
      },
      "execution_count": 118,
      "outputs": []
    },
    {
      "cell_type": "code",
      "source": [
        "X_train.shape"
      ],
      "metadata": {
        "colab": {
          "base_uri": "https://localhost:8080/"
        },
        "id": "0EVPJit-Au9E",
        "outputId": "be1981d8-e95d-4cfd-d4e7-575f350e8f2c"
      },
      "execution_count": 119,
      "outputs": [
        {
          "output_type": "execute_result",
          "data": {
            "text/plain": [
              "(89, 48, 40, 2)"
            ]
          },
          "metadata": {},
          "execution_count": 119
        }
      ]
    },
    {
      "cell_type": "code",
      "source": [
        "show(X_train[0, :, :, 0])\n",
        "show(X_train[0, :, :, 1])"
      ],
      "metadata": {
        "colab": {
          "base_uri": "https://localhost:8080/",
          "height": 862
        },
        "id": "7DWD5-YbTH8M",
        "outputId": "ca85e924-1939-4334-db88-226ab1dc493d"
      },
      "execution_count": 120,
      "outputs": [
        {
          "output_type": "display_data",
          "data": {
            "text/plain": [
              "<Figure size 640x480 with 1 Axes>"
            ],
            "image/png": "[encoded data removed]"
          },
          "metadata": {}
        },
        {
          "output_type": "display_data",
          "data": {
            "text/plain": [
              "<Figure size 640x480 with 1 Axes>"
            ],
            "image/png": "[encoded data removed]"
          },
          "metadata": {}
        },
        {
          "output_type": "execute_result",
          "data": {
            "text/plain": [
              "<Axes: >"
            ]
          },
          "metadata": {},
          "execution_count": 120
        }
      ]
    },
    {
      "cell_type": "markdown",
      "source": [
        "# Implementación del Modelo\n",
        "---"
      ],
      "metadata": {
        "id": "d56Gg766RZFo"
      }
    },
    {
      "cell_type": "code",
      "source": [
        "from tensorflow import keras\n",
        "from tensorflow.keras.models import Model\n",
        "from tensorflow.keras.layers import Input, Conv2D, MaxPooling2D, UpSampling2D\n",
        "\n",
        "# Define la arquitectura del autoencoder\n",
        "input_layer = Input(shape=(48, 40, 2))\n",
        "encoder = Conv2D(16, (3, 3), activation=\"relu\", padding=\"same\")(input_layer)\n",
        "encoder = MaxPooling2D((2, 2))(encoder)\n",
        "decoder = Conv2D(16, (3, 3), activation=\"relu\", padding=\"same\")(encoder)\n",
        "decoder = UpSampling2D((2, 2))(decoder)\n",
        "output_layer = Conv2D(2, (3, 3), activation=\"sigmoid\", padding=\"same\")(decoder)\n",
        "\n",
        "# Crea el modelo del autoencoder\n",
        "autoencoder = Model(input_layer, output_layer)\n",
        "\n",
        "# Compila el modelo\n",
        "autoencoder.compile(optimizer=\"adam\", loss=\"binary_crossentropy\")\n",
        "\n",
        "autoencoder.summary()"
      ],
      "metadata": {
        "colab": {
          "base_uri": "https://localhost:8080/"
        },
        "id": "tj0TVVuNT0A8",
        "outputId": "4c4d33af-41c3-4db8-ed0f-9c94a1c64376"
      },
      "execution_count": 121,
      "outputs": [
        {
          "output_type": "stream",
          "name": "stdout",
          "text": [
            "Model: \"model\"\n",
            "_________________________________________________________________\n",
            " Layer (type)                Output Shape              Param #   \n",
            "=================================================================\n",
            " input_1 (InputLayer)        [(None, 48, 40, 2)]       0         \n",
            "                                                                 \n",
            " conv2d (Conv2D)             (None, 48, 40, 16)        304       \n",
            "                                                                 \n",
            " max_pooling2d (MaxPooling2D  (None, 24, 20, 16)       0         \n",
            " )                                                               \n",
            "                                                                 \n",
            " conv2d_1 (Conv2D)           (None, 24, 20, 16)        2320      \n",
            "                                                                 \n",
            " up_sampling2d (UpSampling2D  (None, 48, 40, 16)       0         \n",
            " )                                                               \n",
            "                                                                 \n",
            " conv2d_2 (Conv2D)           (None, 48, 40, 2)         290       \n",
            "                                                                 \n",
            "=================================================================\n",
            "Total params: 2,914\n",
            "Trainable params: 2,914\n",
            "Non-trainable params: 0\n",
            "_________________________________________________________________\n"
          ]
        }
      ]
    },
    {
      "cell_type": "code",
      "source": [
        "# Entrena el autoencoder\n",
        "autoencoder.fit(X_train, X_train, epochs=50, batch_size=32, validation_data=(X_test, X_test))"
      ],
      "metadata": {
        "colab": {
          "base_uri": "https://localhost:8080/"
        },
        "id": "5VM92zymUa1O",
        "outputId": "f4d21f7f-bf21-4816-c5f6-7cf2dcab46b8"
      },
      "execution_count": 122,
      "outputs": [
        {
          "output_type": "stream",
          "name": "stdout",
          "text": [
            "Epoch 1/50\n",
            "3/3 [==============================] - 1s 140ms/step - loss: 0.6696 - val_loss: 0.6203\n",
            "Epoch 2/50\n",
            "3/3 [==============================] - 0s 72ms/step - loss: 0.6001 - val_loss: 0.5520\n",
            "Epoch 3/50\n",
            "3/3 [==============================] - 0s 69ms/step - loss: 0.5285 - val_loss: 0.4707\n",
            "Epoch 4/50\n",
            "3/3 [==============================] - 0s 74ms/step - loss: 0.4441 - val_loss: 0.3736\n",
            "Epoch 5/50\n",
            "3/3 [==============================] - 0s 74ms/step - loss: 0.3412 - val_loss: 0.2578\n",
            "Epoch 6/50\n",
            "3/3 [==============================] - 0s 72ms/step - loss: 0.2233 - val_loss: 0.1183\n",
            "Epoch 7/50\n",
            "3/3 [==============================] - 0s 69ms/step - loss: 0.0777 - val_loss: -0.0458\n",
            "Epoch 8/50\n",
            "3/3 [==============================] - 0s 76ms/step - loss: -0.0919 - val_loss: -0.2408\n",
            "Epoch 9/50\n",
            "3/3 [==============================] - 0s 68ms/step - loss: -0.3033 - val_loss: -0.4799\n",
            "Epoch 10/50\n",
            "3/3 [==============================] - 0s 72ms/step - loss: -0.5526 - val_loss: -0.7775\n",
            "Epoch 11/50\n",
            "3/3 [==============================] - 0s 100ms/step - loss: -0.8542 - val_loss: -1.1455\n",
            "Epoch 12/50\n",
            "3/3 [==============================] - 0s 120ms/step - loss: -1.2421 - val_loss: -1.5970\n",
            "Epoch 13/50\n",
            "3/3 [==============================] - 0s 115ms/step - loss: -1.7241 - val_loss: -2.1525\n",
            "Epoch 14/50\n",
            "3/3 [==============================] - 0s 129ms/step - loss: -2.3073 - val_loss: -2.8334\n",
            "Epoch 15/50\n",
            "3/3 [==============================] - 0s 118ms/step - loss: -3.0114 - val_loss: -3.6619\n",
            "Epoch 16/50\n",
            "3/3 [==============================] - 0s 115ms/step - loss: -3.8848 - val_loss: -4.6619\n",
            "Epoch 17/50\n",
            "3/3 [==============================] - 0s 120ms/step - loss: -4.9255 - val_loss: -5.8683\n",
            "Epoch 18/50\n",
            "3/3 [==============================] - 0s 118ms/step - loss: -6.1652 - val_loss: -7.3378\n",
            "Epoch 19/50\n",
            "3/3 [==============================] - 0s 121ms/step - loss: -7.6788 - val_loss: -9.1471\n",
            "Epoch 20/50\n",
            "3/3 [==============================] - 0s 77ms/step - loss: -9.6316 - val_loss: -11.3131\n",
            "Epoch 21/50\n",
            "3/3 [==============================] - 0s 69ms/step - loss: -11.8121 - val_loss: -13.8935\n",
            "Epoch 22/50\n",
            "3/3 [==============================] - 0s 72ms/step - loss: -14.5064 - val_loss: -16.9170\n",
            "Epoch 23/50\n",
            "3/3 [==============================] - 0s 71ms/step - loss: -17.5793 - val_loss: -20.4444\n",
            "Epoch 24/50\n",
            "3/3 [==============================] - 0s 72ms/step - loss: -21.1407 - val_loss: -24.5180\n",
            "Epoch 25/50\n",
            "3/3 [==============================] - 0s 74ms/step - loss: -25.3584 - val_loss: -29.1981\n",
            "Epoch 26/50\n",
            "3/3 [==============================] - 0s 70ms/step - loss: -30.1158 - val_loss: -34.5438\n",
            "Epoch 27/50\n",
            "3/3 [==============================] - 0s 77ms/step - loss: -35.4911 - val_loss: -40.6341\n",
            "Epoch 28/50\n",
            "3/3 [==============================] - 0s 67ms/step - loss: -41.6809 - val_loss: -47.5034\n",
            "Epoch 29/50\n",
            "3/3 [==============================] - 0s 69ms/step - loss: -48.7255 - val_loss: -55.2202\n",
            "Epoch 30/50\n",
            "3/3 [==============================] - 0s 76ms/step - loss: -56.6197 - val_loss: -63.8424\n",
            "Epoch 31/50\n",
            "3/3 [==============================] - 0s 69ms/step - loss: -65.2040 - val_loss: -73.4744\n",
            "Epoch 32/50\n",
            "3/3 [==============================] - 0s 76ms/step - loss: -75.2913 - val_loss: -84.1138\n",
            "Epoch 33/50\n",
            "3/3 [==============================] - 0s 73ms/step - loss: -85.6423 - val_loss: -95.9310\n",
            "Epoch 34/50\n",
            "3/3 [==============================] - 0s 68ms/step - loss: -97.7185 - val_loss: -108.8993\n",
            "Epoch 35/50\n",
            "3/3 [==============================] - 0s 70ms/step - loss: -110.7722 - val_loss: -123.1454\n",
            "Epoch 36/50\n",
            "3/3 [==============================] - 0s 66ms/step - loss: -125.1299 - val_loss: -138.7574\n",
            "Epoch 37/50\n",
            "3/3 [==============================] - 0s 77ms/step - loss: -140.6782 - val_loss: -155.8022\n",
            "Epoch 38/50\n",
            "3/3 [==============================] - 0s 77ms/step - loss: -158.1721 - val_loss: -174.4714\n",
            "Epoch 39/50\n",
            "3/3 [==============================] - 0s 73ms/step - loss: -176.8943 - val_loss: -194.6697\n",
            "Epoch 40/50\n",
            "3/3 [==============================] - 0s 68ms/step - loss: -197.4165 - val_loss: -216.6017\n",
            "Epoch 41/50\n",
            "3/3 [==============================] - 0s 71ms/step - loss: -218.8404 - val_loss: -240.4126\n",
            "Epoch 42/50\n",
            "3/3 [==============================] - 0s 74ms/step - loss: -242.8488 - val_loss: -265.9986\n",
            "Epoch 43/50\n",
            "3/3 [==============================] - 0s 69ms/step - loss: -268.9086 - val_loss: -293.4630\n",
            "Epoch 44/50\n",
            "3/3 [==============================] - 0s 68ms/step - loss: -295.8189 - val_loss: -323.1960\n",
            "Epoch 45/50\n",
            "3/3 [==============================] - 0s 68ms/step - loss: -325.9773 - val_loss: -354.8278\n",
            "Epoch 46/50\n",
            "3/3 [==============================] - 0s 68ms/step - loss: -357.6098 - val_loss: -388.6853\n",
            "Epoch 47/50\n",
            "3/3 [==============================] - 0s 71ms/step - loss: -390.4921 - val_loss: -425.0338\n",
            "Epoch 48/50\n",
            "3/3 [==============================] - 0s 67ms/step - loss: -427.2668 - val_loss: -463.6370\n",
            "Epoch 49/50\n",
            "3/3 [==============================] - 0s 72ms/step - loss: -466.4328 - val_loss: -504.7022\n",
            "Epoch 50/50\n",
            "3/3 [==============================] - 0s 72ms/step - loss: -506.2593 - val_loss: -548.7706\n"
          ]
        },
        {
          "output_type": "execute_result",
          "data": {
            "text/plain": [
              "<keras.callbacks.History at 0x7f45c0f42260>"
            ]
          },
          "metadata": {},
          "execution_count": 122
        }
      ]
    },
    {
      "cell_type": "code",
      "source": [
        "salida = autoencoder.predict(X_train)\n",
        "plt.imshow(salida[10, :, :, 0])"
      ],
      "metadata": {
        "colab": {
          "base_uri": "https://localhost:8080/",
          "height": 466
        },
        "id": "x-b-yYXybqhe",
        "outputId": "d58563e7-406b-405e-de0d-ca8cd013f6a9"
      },
      "execution_count": 146,
      "outputs": [
        {
          "output_type": "stream",
          "name": "stdout",
          "text": [
            "3/3 [==============================] - 0s 16ms/step\n"
          ]
        },
        {
          "output_type": "execute_result",
          "data": {
            "text/plain": [
              "<matplotlib.image.AxesImage at 0x7f45b2c11000>"
            ]
          },
          "metadata": {},
          "execution_count": 146
        },
        {
          "output_type": "display_data",
          "data": {
            "text/plain": [
              "<Figure size 640x480 with 1 Axes>"
            ],
            "image/png": "[encoded data removed]"
          },
          "metadata": {}
        }
      ]
    }
  ]
}